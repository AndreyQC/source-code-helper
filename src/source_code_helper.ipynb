{
 "cells": [
  {
   "cell_type": "code",
   "execution_count": 21,
   "metadata": {},
   "outputs": [
    {
     "name": "stdout",
     "output_type": "stream",
     "text": [
      "object_name\n",
      "author\n",
      "{'name': 'table ext_fixed_costs_mapping_cc.sql', 'pattern': 'file_pattern_greenplum_table_fixed_costs_mapping_ccexternal_s3', 'path': 'scaffAndrey Potapovolding\\Greenplum\\cis\\cis_ext_dicts\\tables'}\n"
     ]
    }
   ],
   "source": [
    "from yaml import safe_load\n",
    "import re\n",
    "from os import path, getcwd, listdir, makedirs\n",
    "import shutil\n",
    "\n",
    "\n",
    "def extract_replace_placeholders(template_string):\n",
    "    pattern = r'\\$\\{([a-zA-Z0-9_]+)\\}'\n",
    "    matches = re.finditer(pattern, template_string)\n",
    "    result = {}    \n",
    "    for match in matches:\n",
    "        result[match.group(1)] = match.group(0)\n",
    "    return result\n",
    "\n",
    "def replace_placeholders(template_string, replace_rules, replace_placeholders):\n",
    "    for k,v in replace_placeholders.items():\n",
    "        print(k)\n",
    "        template_string = template_string.replace(v, replace_rules[k])\n",
    "    return template_string\n",
    "\n",
    "\n",
    "REPLACE_TEMPLATE_PATH = path.join(r\"C:\\repos\\gitflic\\python-experiments\\source code helper\", 'replace_templates')\n",
    "selected_replace_template = path.join(REPLACE_TEMPLATE_PATH, \"replace_template_01.yaml\")\n",
    "with open(selected_replace_template, \"r\") as stream:\n",
    "    replace_rules = safe_load(stream)\n",
    "\n",
    "str_for_review = \"{'name': 'table ext_${object_name}.sql', 'pattern': 'file_pattern_greenplum_table_${object_name}external_s3', 'path': 'scaff${author}olding\\\\Greenplum\\\\cis\\\\cis_ext_dicts\\\\tables'}\"\n",
    "\n",
    "\n",
    "print(replace_placeholders(str_for_review, replace_rules, extract_replace_placeholders(str_for_review)))"
   ]
  },
  {
   "cell_type": "code",
   "execution_count": null,
   "metadata": {},
   "outputs": [],
   "source": []
  }
 ],
 "metadata": {
  "kernelspec": {
   "display_name": "env",
   "language": "python",
   "name": "python3"
  },
  "language_info": {
   "codemirror_mode": {
    "name": "ipython",
    "version": 3
   },
   "file_extension": ".py",
   "mimetype": "text/x-python",
   "name": "python",
   "nbconvert_exporter": "python",
   "pygments_lexer": "ipython3",
   "version": "3.12.0"
  }
 },
 "nbformat": 4,
 "nbformat_minor": 2
}
